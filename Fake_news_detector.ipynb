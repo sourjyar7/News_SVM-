{
 "cells": [
  {
   "cell_type": "markdown",
   "metadata": {},
   "source": [
    "## The following notebook attempts to train a SVM classifier to recognise proper news articles from fake news articles,sattires,etc "
   ]
  },
  {
   "cell_type": "markdown",
   "metadata": {},
   "source": [
    "**The dataset used can be found in a csv file along with this notebook . I used BeautifulSoup api to scrape news articles from some popular news websites like the ANI,QUINT,etc and news sattires from websites like Scroll,FakingNews,etc and labelled them as 0 for genuine news and 1 for not news**"
   ]
  },
  {
   "cell_type": "markdown",
   "metadata": {},
   "source": [
    "*Using pandas to read the dataset*"
   ]
  },
  {
   "cell_type": "code",
   "execution_count": 34,
   "metadata": {
    "scrolled": true
   },
   "outputs": [
    {
     "data": {
      "text/html": [
       "<div>\n",
       "<style scoped>\n",
       "    .dataframe tbody tr th:only-of-type {\n",
       "        vertical-align: middle;\n",
       "    }\n",
       "\n",
       "    .dataframe tbody tr th {\n",
       "        vertical-align: top;\n",
       "    }\n",
       "\n",
       "    .dataframe thead th {\n",
       "        text-align: right;\n",
       "    }\n",
       "</style>\n",
       "<table border=\"1\" class=\"dataframe\">\n",
       "  <thead>\n",
       "    <tr style=\"text-align: right;\">\n",
       "      <th></th>\n",
       "      <th>Head</th>\n",
       "      <th>Body</th>\n",
       "      <th>Label</th>\n",
       "      <th>Unnamed: 3</th>\n",
       "      <th>Unnamed: 4</th>\n",
       "      <th>Unnamed: 5</th>\n",
       "      <th>Unnamed: 6</th>\n",
       "      <th>Unnamed: 7</th>\n",
       "      <th>Unnamed: 8</th>\n",
       "      <th>Unnamed: 9</th>\n",
       "      <th>...</th>\n",
       "      <th>Unnamed: 136</th>\n",
       "      <th>Unnamed: 137</th>\n",
       "      <th>Unnamed: 138</th>\n",
       "      <th>Unnamed: 139</th>\n",
       "      <th>Unnamed: 140</th>\n",
       "      <th>Unnamed: 141</th>\n",
       "      <th>Unnamed: 142</th>\n",
       "      <th>Unnamed: 143</th>\n",
       "      <th>Unnamed: 144</th>\n",
       "      <th>Unnamed: 145</th>\n",
       "    </tr>\n",
       "  </thead>\n",
       "  <tbody>\n",
       "    <tr>\n",
       "      <td>0</td>\n",
       "      <td>‘Sitting upon a volcano’: Doctors in Bengal ri...</td>\n",
       "      <td>The population of West Bengal is three times t...</td>\n",
       "      <td>1.0</td>\n",
       "      <td>NaN</td>\n",
       "      <td>NaN</td>\n",
       "      <td>NaN</td>\n",
       "      <td>NaN</td>\n",
       "      <td>NaN</td>\n",
       "      <td>NaN</td>\n",
       "      <td>NaN</td>\n",
       "      <td>...</td>\n",
       "      <td>NaN</td>\n",
       "      <td>NaN</td>\n",
       "      <td>NaN</td>\n",
       "      <td>NaN</td>\n",
       "      <td>NaN</td>\n",
       "      <td>NaN</td>\n",
       "      <td>NaN</td>\n",
       "      <td>NaN</td>\n",
       "      <td>NaN</td>\n",
       "      <td>NaN</td>\n",
       "    </tr>\n",
       "    <tr>\n",
       "      <td>1</td>\n",
       "      <td>Covid-19: As millions fear starvation, activis...</td>\n",
       "      <td>The Right to Food Campaign on Tuesday issued a...</td>\n",
       "      <td>1.0</td>\n",
       "      <td>NaN</td>\n",
       "      <td>NaN</td>\n",
       "      <td>NaN</td>\n",
       "      <td>NaN</td>\n",
       "      <td>NaN</td>\n",
       "      <td>NaN</td>\n",
       "      <td>NaN</td>\n",
       "      <td>...</td>\n",
       "      <td>NaN</td>\n",
       "      <td>NaN</td>\n",
       "      <td>NaN</td>\n",
       "      <td>NaN</td>\n",
       "      <td>NaN</td>\n",
       "      <td>NaN</td>\n",
       "      <td>NaN</td>\n",
       "      <td>NaN</td>\n",
       "      <td>NaN</td>\n",
       "      <td>NaN</td>\n",
       "    </tr>\n",
       "    <tr>\n",
       "      <td>2</td>\n",
       "      <td>Delhi violence: UAPA against Jamia students an...</td>\n",
       "      <td>Human rights organisation Amnesty Internationa...</td>\n",
       "      <td>1.0</td>\n",
       "      <td>NaN</td>\n",
       "      <td>NaN</td>\n",
       "      <td>NaN</td>\n",
       "      <td>NaN</td>\n",
       "      <td>NaN</td>\n",
       "      <td>NaN</td>\n",
       "      <td>NaN</td>\n",
       "      <td>...</td>\n",
       "      <td>NaN</td>\n",
       "      <td>NaN</td>\n",
       "      <td>NaN</td>\n",
       "      <td>NaN</td>\n",
       "      <td>NaN</td>\n",
       "      <td>NaN</td>\n",
       "      <td>NaN</td>\n",
       "      <td>NaN</td>\n",
       "      <td>NaN</td>\n",
       "      <td>NaN</td>\n",
       "    </tr>\n",
       "    <tr>\n",
       "      <td>3</td>\n",
       "      <td>By crowdfunding benefits for embattled workers...</td>\n",
       "      <td>For urban Indians, the Covid-19 lockdown has m...</td>\n",
       "      <td>1.0</td>\n",
       "      <td>NaN</td>\n",
       "      <td>NaN</td>\n",
       "      <td>NaN</td>\n",
       "      <td>NaN</td>\n",
       "      <td>NaN</td>\n",
       "      <td>NaN</td>\n",
       "      <td>NaN</td>\n",
       "      <td>...</td>\n",
       "      <td>NaN</td>\n",
       "      <td>NaN</td>\n",
       "      <td>NaN</td>\n",
       "      <td>NaN</td>\n",
       "      <td>NaN</td>\n",
       "      <td>NaN</td>\n",
       "      <td>NaN</td>\n",
       "      <td>NaN</td>\n",
       "      <td>NaN</td>\n",
       "      <td>NaN</td>\n",
       "    </tr>\n",
       "    <tr>\n",
       "      <td>4</td>\n",
       "      <td>The Art of Solitude: Franklin Boukaka and Manu...</td>\n",
       "      <td>Jazz has always brought me joy. This fortnight...</td>\n",
       "      <td>1.0</td>\n",
       "      <td>NaN</td>\n",
       "      <td>NaN</td>\n",
       "      <td>NaN</td>\n",
       "      <td>NaN</td>\n",
       "      <td>NaN</td>\n",
       "      <td>NaN</td>\n",
       "      <td>NaN</td>\n",
       "      <td>...</td>\n",
       "      <td>NaN</td>\n",
       "      <td>NaN</td>\n",
       "      <td>NaN</td>\n",
       "      <td>NaN</td>\n",
       "      <td>NaN</td>\n",
       "      <td>NaN</td>\n",
       "      <td>NaN</td>\n",
       "      <td>NaN</td>\n",
       "      <td>NaN</td>\n",
       "      <td>1.0</td>\n",
       "    </tr>\n",
       "  </tbody>\n",
       "</table>\n",
       "<p>5 rows × 146 columns</p>\n",
       "</div>"
      ],
      "text/plain": [
       "                                                Head  \\\n",
       "0  ‘Sitting upon a volcano’: Doctors in Bengal ri...   \n",
       "1  Covid-19: As millions fear starvation, activis...   \n",
       "2  Delhi violence: UAPA against Jamia students an...   \n",
       "3  By crowdfunding benefits for embattled workers...   \n",
       "4  The Art of Solitude: Franklin Boukaka and Manu...   \n",
       "\n",
       "                                                Body  Label  Unnamed: 3  \\\n",
       "0  The population of West Bengal is three times t...    1.0         NaN   \n",
       "1  The Right to Food Campaign on Tuesday issued a...    1.0         NaN   \n",
       "2  Human rights organisation Amnesty Internationa...    1.0         NaN   \n",
       "3  For urban Indians, the Covid-19 lockdown has m...    1.0         NaN   \n",
       "4  Jazz has always brought me joy. This fortnight...    1.0         NaN   \n",
       "\n",
       "   Unnamed: 4  Unnamed: 5  Unnamed: 6  Unnamed: 7  Unnamed: 8  Unnamed: 9  \\\n",
       "0         NaN         NaN         NaN         NaN         NaN         NaN   \n",
       "1         NaN         NaN         NaN         NaN         NaN         NaN   \n",
       "2         NaN         NaN         NaN         NaN         NaN         NaN   \n",
       "3         NaN         NaN         NaN         NaN         NaN         NaN   \n",
       "4         NaN         NaN         NaN         NaN         NaN         NaN   \n",
       "\n",
       "   ...  Unnamed: 136  Unnamed: 137  Unnamed: 138  Unnamed: 139  Unnamed: 140  \\\n",
       "0  ...           NaN           NaN           NaN           NaN           NaN   \n",
       "1  ...           NaN           NaN           NaN           NaN           NaN   \n",
       "2  ...           NaN           NaN           NaN           NaN           NaN   \n",
       "3  ...           NaN           NaN           NaN           NaN           NaN   \n",
       "4  ...           NaN           NaN           NaN           NaN           NaN   \n",
       "\n",
       "   Unnamed: 141  Unnamed: 142  Unnamed: 143  Unnamed: 144  Unnamed: 145  \n",
       "0           NaN           NaN           NaN           NaN           NaN  \n",
       "1           NaN           NaN           NaN           NaN           NaN  \n",
       "2           NaN           NaN           NaN           NaN           NaN  \n",
       "3           NaN           NaN           NaN           NaN           NaN  \n",
       "4           NaN           NaN           NaN           NaN           1.0  \n",
       "\n",
       "[5 rows x 146 columns]"
      ]
     },
     "execution_count": 34,
     "metadata": {},
     "output_type": "execute_result"
    }
   ],
   "source": [
    "import pandas as pd\n",
    "df=pd.read_csv('train_data.csv')\n",
    "df.head()"
   ]
  },
  {
   "cell_type": "markdown",
   "metadata": {},
   "source": [
    "*Removing unnecessary columns from dataframe*"
   ]
  },
  {
   "cell_type": "code",
   "execution_count": 35,
   "metadata": {
    "scrolled": true
   },
   "outputs": [
    {
     "data": {
      "text/html": [
       "<div>\n",
       "<style scoped>\n",
       "    .dataframe tbody tr th:only-of-type {\n",
       "        vertical-align: middle;\n",
       "    }\n",
       "\n",
       "    .dataframe tbody tr th {\n",
       "        vertical-align: top;\n",
       "    }\n",
       "\n",
       "    .dataframe thead th {\n",
       "        text-align: right;\n",
       "    }\n",
       "</style>\n",
       "<table border=\"1\" class=\"dataframe\">\n",
       "  <thead>\n",
       "    <tr style=\"text-align: right;\">\n",
       "      <th></th>\n",
       "      <th>Head</th>\n",
       "      <th>Body</th>\n",
       "      <th>Label</th>\n",
       "    </tr>\n",
       "  </thead>\n",
       "  <tbody>\n",
       "    <tr>\n",
       "      <td>0</td>\n",
       "      <td>‘Sitting upon a volcano’: Doctors in Bengal ri...</td>\n",
       "      <td>The population of West Bengal is three times t...</td>\n",
       "      <td>1.0</td>\n",
       "    </tr>\n",
       "    <tr>\n",
       "      <td>1</td>\n",
       "      <td>Covid-19: As millions fear starvation, activis...</td>\n",
       "      <td>The Right to Food Campaign on Tuesday issued a...</td>\n",
       "      <td>1.0</td>\n",
       "    </tr>\n",
       "    <tr>\n",
       "      <td>2</td>\n",
       "      <td>Delhi violence: UAPA against Jamia students an...</td>\n",
       "      <td>Human rights organisation Amnesty Internationa...</td>\n",
       "      <td>1.0</td>\n",
       "    </tr>\n",
       "    <tr>\n",
       "      <td>3</td>\n",
       "      <td>By crowdfunding benefits for embattled workers...</td>\n",
       "      <td>For urban Indians, the Covid-19 lockdown has m...</td>\n",
       "      <td>1.0</td>\n",
       "    </tr>\n",
       "    <tr>\n",
       "      <td>4</td>\n",
       "      <td>The Art of Solitude: Franklin Boukaka and Manu...</td>\n",
       "      <td>Jazz has always brought me joy. This fortnight...</td>\n",
       "      <td>1.0</td>\n",
       "    </tr>\n",
       "    <tr>\n",
       "      <td>...</td>\n",
       "      <td>...</td>\n",
       "      <td>...</td>\n",
       "      <td>...</td>\n",
       "    </tr>\n",
       "    <tr>\n",
       "      <td>3402</td>\n",
       "      <td>We just asked him to introduce himself, will a...</td>\n",
       "      <td>Encouraged by the response to Ramayan and Maha...</td>\n",
       "      <td>1.0</td>\n",
       "    </tr>\n",
       "    <tr>\n",
       "      <td>3403</td>\n",
       "      <td>Mumbai Police taping Arnab's mouth shut while ...</td>\n",
       "      <td>There is some good news for Whatsapp admins wh...</td>\n",
       "      <td>1.0</td>\n",
       "    </tr>\n",
       "    <tr>\n",
       "      <td>3404</td>\n",
       "      <td>Mumbai police calls Arnab for interrogation, A...</td>\n",
       "      <td>In an effort to prevent the spread of coronavi...</td>\n",
       "      <td>1.0</td>\n",
       "    </tr>\n",
       "    <tr>\n",
       "      <td>3405</td>\n",
       "      <td>Coronavirus enters Arnab’s debate show, team o...</td>\n",
       "      <td>As number of coronavirus related cases see a r...</td>\n",
       "      <td>1.0</td>\n",
       "    </tr>\n",
       "    <tr>\n",
       "      <td>3406</td>\n",
       "      <td>I am also held up at Republic TV studio for th...</td>\n",
       "      <td>Mumbai. As India was scratching its head over ...</td>\n",
       "      <td>1.0</td>\n",
       "    </tr>\n",
       "  </tbody>\n",
       "</table>\n",
       "<p>3407 rows × 3 columns</p>\n",
       "</div>"
      ],
      "text/plain": [
       "                                                   Head  \\\n",
       "0     ‘Sitting upon a volcano’: Doctors in Bengal ri...   \n",
       "1     Covid-19: As millions fear starvation, activis...   \n",
       "2     Delhi violence: UAPA against Jamia students an...   \n",
       "3     By crowdfunding benefits for embattled workers...   \n",
       "4     The Art of Solitude: Franklin Boukaka and Manu...   \n",
       "...                                                 ...   \n",
       "3402  We just asked him to introduce himself, will a...   \n",
       "3403  Mumbai Police taping Arnab's mouth shut while ...   \n",
       "3404  Mumbai police calls Arnab for interrogation, A...   \n",
       "3405  Coronavirus enters Arnab’s debate show, team o...   \n",
       "3406  I am also held up at Republic TV studio for th...   \n",
       "\n",
       "                                                   Body  Label  \n",
       "0     The population of West Bengal is three times t...    1.0  \n",
       "1     The Right to Food Campaign on Tuesday issued a...    1.0  \n",
       "2     Human rights organisation Amnesty Internationa...    1.0  \n",
       "3     For urban Indians, the Covid-19 lockdown has m...    1.0  \n",
       "4     Jazz has always brought me joy. This fortnight...    1.0  \n",
       "...                                                 ...    ...  \n",
       "3402  Encouraged by the response to Ramayan and Maha...    1.0  \n",
       "3403  There is some good news for Whatsapp admins wh...    1.0  \n",
       "3404  In an effort to prevent the spread of coronavi...    1.0  \n",
       "3405  As number of coronavirus related cases see a r...    1.0  \n",
       "3406  Mumbai. As India was scratching its head over ...    1.0  \n",
       "\n",
       "[3407 rows x 3 columns]"
      ]
     },
     "execution_count": 35,
     "metadata": {},
     "output_type": "execute_result"
    }
   ],
   "source": [
    "df.drop(df.iloc[:,3:],inplace=True,axis=1)\n",
    "df"
   ]
  },
  {
   "cell_type": "markdown",
   "metadata": {},
   "source": [
    "*Removing articles that have been scraped more than once*"
   ]
  },
  {
   "cell_type": "code",
   "execution_count": 36,
   "metadata": {
    "scrolled": true
   },
   "outputs": [
    {
     "data": {
      "text/html": [
       "<div>\n",
       "<style scoped>\n",
       "    .dataframe tbody tr th:only-of-type {\n",
       "        vertical-align: middle;\n",
       "    }\n",
       "\n",
       "    .dataframe tbody tr th {\n",
       "        vertical-align: top;\n",
       "    }\n",
       "\n",
       "    .dataframe thead th {\n",
       "        text-align: right;\n",
       "    }\n",
       "</style>\n",
       "<table border=\"1\" class=\"dataframe\">\n",
       "  <thead>\n",
       "    <tr style=\"text-align: right;\">\n",
       "      <th></th>\n",
       "      <th>Head</th>\n",
       "      <th>Body</th>\n",
       "      <th>Label</th>\n",
       "    </tr>\n",
       "  </thead>\n",
       "  <tbody>\n",
       "    <tr>\n",
       "      <td>0</td>\n",
       "      <td>‘Sitting upon a volcano’: Doctors in Bengal ri...</td>\n",
       "      <td>The population of West Bengal is three times t...</td>\n",
       "      <td>1.0</td>\n",
       "    </tr>\n",
       "    <tr>\n",
       "      <td>1</td>\n",
       "      <td>Covid-19: As millions fear starvation, activis...</td>\n",
       "      <td>The Right to Food Campaign on Tuesday issued a...</td>\n",
       "      <td>1.0</td>\n",
       "    </tr>\n",
       "    <tr>\n",
       "      <td>2</td>\n",
       "      <td>Delhi violence: UAPA against Jamia students an...</td>\n",
       "      <td>Human rights organisation Amnesty Internationa...</td>\n",
       "      <td>1.0</td>\n",
       "    </tr>\n",
       "    <tr>\n",
       "      <td>3</td>\n",
       "      <td>By crowdfunding benefits for embattled workers...</td>\n",
       "      <td>For urban Indians, the Covid-19 lockdown has m...</td>\n",
       "      <td>1.0</td>\n",
       "    </tr>\n",
       "    <tr>\n",
       "      <td>4</td>\n",
       "      <td>The Art of Solitude: Franklin Boukaka and Manu...</td>\n",
       "      <td>Jazz has always brought me joy. This fortnight...</td>\n",
       "      <td>1.0</td>\n",
       "    </tr>\n",
       "    <tr>\n",
       "      <td>...</td>\n",
       "      <td>...</td>\n",
       "      <td>...</td>\n",
       "      <td>...</td>\n",
       "    </tr>\n",
       "    <tr>\n",
       "      <td>3297</td>\n",
       "      <td>Desperate to go ahead with IPL, BCCI announces...</td>\n",
       "      <td>New Delhi. World Cup winner Gautam Gambhir too...</td>\n",
       "      <td>1.0</td>\n",
       "    </tr>\n",
       "    <tr>\n",
       "      <td>3335</td>\n",
       "      <td>मोदीजी के 20 लाख करोड़ का लॉजिक, सुनिए भगतराम ...</td>\n",
       "      <td>Earlier on Thursday, Goswami had accused the C...</td>\n",
       "      <td>1.0</td>\n",
       "    </tr>\n",
       "    <tr>\n",
       "      <td>3387</td>\n",
       "      <td>Demand for Old Monk witnesses exponential incr...</td>\n",
       "      <td>With number of cases on the rise, the medical ...</td>\n",
       "      <td>1.0</td>\n",
       "    </tr>\n",
       "    <tr>\n",
       "      <td>3388</td>\n",
       "      <td>Goa could be declared a green zone, engineerin...</td>\n",
       "      <td>The post-match interaction with the press once...</td>\n",
       "      <td>1.0</td>\n",
       "    </tr>\n",
       "    <tr>\n",
       "      <td>3389</td>\n",
       "      <td>Supreme Court asks Mumbai Metro to stop all pr...</td>\n",
       "      <td>Caught in a moral dilemma over his extra-marit...</td>\n",
       "      <td>1.0</td>\n",
       "    </tr>\n",
       "  </tbody>\n",
       "</table>\n",
       "<p>1207 rows × 3 columns</p>\n",
       "</div>"
      ],
      "text/plain": [
       "                                                   Head  \\\n",
       "0     ‘Sitting upon a volcano’: Doctors in Bengal ri...   \n",
       "1     Covid-19: As millions fear starvation, activis...   \n",
       "2     Delhi violence: UAPA against Jamia students an...   \n",
       "3     By crowdfunding benefits for embattled workers...   \n",
       "4     The Art of Solitude: Franklin Boukaka and Manu...   \n",
       "...                                                 ...   \n",
       "3297  Desperate to go ahead with IPL, BCCI announces...   \n",
       "3335  मोदीजी के 20 लाख करोड़ का लॉजिक, सुनिए भगतराम ...   \n",
       "3387  Demand for Old Monk witnesses exponential incr...   \n",
       "3388  Goa could be declared a green zone, engineerin...   \n",
       "3389  Supreme Court asks Mumbai Metro to stop all pr...   \n",
       "\n",
       "                                                   Body  Label  \n",
       "0     The population of West Bengal is three times t...    1.0  \n",
       "1     The Right to Food Campaign on Tuesday issued a...    1.0  \n",
       "2     Human rights organisation Amnesty Internationa...    1.0  \n",
       "3     For urban Indians, the Covid-19 lockdown has m...    1.0  \n",
       "4     Jazz has always brought me joy. This fortnight...    1.0  \n",
       "...                                                 ...    ...  \n",
       "3297  New Delhi. World Cup winner Gautam Gambhir too...    1.0  \n",
       "3335  Earlier on Thursday, Goswami had accused the C...    1.0  \n",
       "3387  With number of cases on the rise, the medical ...    1.0  \n",
       "3388  The post-match interaction with the press once...    1.0  \n",
       "3389  Caught in a moral dilemma over his extra-marit...    1.0  \n",
       "\n",
       "[1207 rows x 3 columns]"
      ]
     },
     "execution_count": 36,
     "metadata": {},
     "output_type": "execute_result"
    }
   ],
   "source": [
    "df.drop_duplicates(subset=\"Head\",inplace=True)\n",
    "df"
   ]
  },
  {
   "cell_type": "markdown",
   "metadata": {},
   "source": [
    "*Dropping rows with NaN values if any*"
   ]
  },
  {
   "cell_type": "code",
   "execution_count": 72,
   "metadata": {},
   "outputs": [],
   "source": [
    "df.dropna(inplace=True)\n"
   ]
  },
  {
   "cell_type": "markdown",
   "metadata": {},
   "source": [
    "*Printing the no.of different labels present*"
   ]
  },
  {
   "cell_type": "code",
   "execution_count": 73,
   "metadata": {},
   "outputs": [
    {
     "name": "stdout",
     "output_type": "stream",
     "text": [
      "432\n",
      "736\n"
     ]
    }
   ],
   "source": [
    "print(len(df[df[\"Label\"]==1]))\n",
    "print(len(df[df[\"Label\"]==0]))\n"
   ]
  },
  {
   "cell_type": "markdown",
   "metadata": {},
   "source": [
    "### NLP pipeline begins here\n",
    "*Function to remove punctuation*"
   ]
  },
  {
   "cell_type": "code",
   "execution_count": 3,
   "metadata": {
    "collapsed": true
   },
   "outputs": [
    {
     "ename": "NameError",
     "evalue": "name 'df' is not defined",
     "output_type": "error",
     "traceback": [
      "\u001b[1;31m---------------------------------------------------------------------------\u001b[0m",
      "\u001b[1;31mNameError\u001b[0m                                 Traceback (most recent call last)",
      "\u001b[1;32m<ipython-input-3-886f6c44289a>\u001b[0m in \u001b[0;36m<module>\u001b[1;34m\u001b[0m\n\u001b[0;32m      5\u001b[0m         \u001b[1;32mreturn\u001b[0m \u001b[0mtxt\u001b[0m\u001b[1;33m\u001b[0m\u001b[1;33m\u001b[0m\u001b[0m\n\u001b[0;32m      6\u001b[0m \u001b[1;33m\u001b[0m\u001b[0m\n\u001b[1;32m----> 7\u001b[1;33m \u001b[0mdf\u001b[0m\u001b[1;33m[\u001b[0m\u001b[1;34m'Clean_Body'\u001b[0m\u001b[1;33m]\u001b[0m\u001b[1;33m=\u001b[0m\u001b[0mdf\u001b[0m\u001b[1;33m[\u001b[0m\u001b[1;34m'Body'\u001b[0m\u001b[1;33m]\u001b[0m\u001b[1;33m.\u001b[0m\u001b[0mapply\u001b[0m\u001b[1;33m(\u001b[0m\u001b[1;32mlambda\u001b[0m \u001b[0mx\u001b[0m\u001b[1;33m:\u001b[0m\u001b[0mremove_punct\u001b[0m\u001b[1;33m(\u001b[0m\u001b[0mx\u001b[0m\u001b[1;33m)\u001b[0m\u001b[1;33m)\u001b[0m\u001b[1;33m\u001b[0m\u001b[1;33m\u001b[0m\u001b[0m\n\u001b[0m\u001b[0;32m      8\u001b[0m \u001b[0mdf\u001b[0m\u001b[1;33m.\u001b[0m\u001b[0mhead\u001b[0m\u001b[1;33m(\u001b[0m\u001b[1;33m)\u001b[0m\u001b[1;33m\u001b[0m\u001b[1;33m\u001b[0m\u001b[0m\n",
      "\u001b[1;31mNameError\u001b[0m: name 'df' is not defined"
     ]
    }
   ],
   "source": [
    "import string\n",
    "def remove_punct(str):\n",
    "    if(type(str) != float):\n",
    "        txt = \"\".join([c for c in str if c not in string.punctuation])\n",
    "        return txt\n",
    "\n",
    "df['Clean_Body']=df['Body'].apply(lambda x:remove_punct(x))\n",
    "df.head()"
   ]
  },
  {
   "cell_type": "markdown",
   "metadata": {},
   "source": [
    "*Removing hindi characters from the text*"
   ]
  },
  {
   "cell_type": "code",
   "execution_count": 75,
   "metadata": {},
   "outputs": [],
   "source": [
    "import codecs,string\n",
    "def detect_language(character):\n",
    "    maxchar = max(character)\n",
    "    if u'\\u0900' <= maxchar <= u'\\u097f':\n",
    "        return False\n",
    "    else:\n",
    "        return True\n",
    "\n",
    "    \n",
    "def sanitize(text):\n",
    "    text=str(text)\n",
    "    para =\"\".join([c for c in text if (detect_language(c))])\n",
    "    return para\n",
    "\n",
    "df['Clean_Body']=df['Clean_Body'].apply(lambda x:sanitize(x))\n",
    "\n",
    "    "
   ]
  },
  {
   "cell_type": "markdown",
   "metadata": {},
   "source": [
    "*Tokenizing the text*"
   ]
  },
  {
   "cell_type": "code",
   "execution_count": 76,
   "metadata": {
    "scrolled": false
   },
   "outputs": [
    {
     "data": {
      "text/html": [
       "<div>\n",
       "<style scoped>\n",
       "    .dataframe tbody tr th:only-of-type {\n",
       "        vertical-align: middle;\n",
       "    }\n",
       "\n",
       "    .dataframe tbody tr th {\n",
       "        vertical-align: top;\n",
       "    }\n",
       "\n",
       "    .dataframe thead th {\n",
       "        text-align: right;\n",
       "    }\n",
       "</style>\n",
       "<table border=\"1\" class=\"dataframe\">\n",
       "  <thead>\n",
       "    <tr style=\"text-align: right;\">\n",
       "      <th></th>\n",
       "      <th>Head</th>\n",
       "      <th>Body</th>\n",
       "      <th>Label</th>\n",
       "      <th>Clean_Body</th>\n",
       "    </tr>\n",
       "  </thead>\n",
       "  <tbody>\n",
       "    <tr>\n",
       "      <td>0</td>\n",
       "      <td>‘Sitting upon a volcano’: Doctors in Bengal ri...</td>\n",
       "      <td>The population of West Bengal is three times t...</td>\n",
       "      <td>1.0</td>\n",
       "      <td>[The, population, of, West, Bengal, is, three,...</td>\n",
       "    </tr>\n",
       "    <tr>\n",
       "      <td>1</td>\n",
       "      <td>Covid-19: As millions fear starvation, activis...</td>\n",
       "      <td>The Right to Food Campaign on Tuesday issued a...</td>\n",
       "      <td>1.0</td>\n",
       "      <td>[The, Right, to, Food, Campaign, on, Tuesday, ...</td>\n",
       "    </tr>\n",
       "    <tr>\n",
       "      <td>2</td>\n",
       "      <td>Delhi violence: UAPA against Jamia students an...</td>\n",
       "      <td>Human rights organisation Amnesty Internationa...</td>\n",
       "      <td>1.0</td>\n",
       "      <td>[Human, rights, organisation, Amnesty, Interna...</td>\n",
       "    </tr>\n",
       "    <tr>\n",
       "      <td>3</td>\n",
       "      <td>By crowdfunding benefits for embattled workers...</td>\n",
       "      <td>For urban Indians, the Covid-19 lockdown has m...</td>\n",
       "      <td>1.0</td>\n",
       "      <td>[For, urban, Indians, the, Covid19, lockdown, ...</td>\n",
       "    </tr>\n",
       "    <tr>\n",
       "      <td>4</td>\n",
       "      <td>The Art of Solitude: Franklin Boukaka and Manu...</td>\n",
       "      <td>Jazz has always brought me joy. This fortnight...</td>\n",
       "      <td>1.0</td>\n",
       "      <td>[Jazz, has, always, brought, me, joy, This, fo...</td>\n",
       "    </tr>\n",
       "  </tbody>\n",
       "</table>\n",
       "</div>"
      ],
      "text/plain": [
       "                                                Head  \\\n",
       "0  ‘Sitting upon a volcano’: Doctors in Bengal ri...   \n",
       "1  Covid-19: As millions fear starvation, activis...   \n",
       "2  Delhi violence: UAPA against Jamia students an...   \n",
       "3  By crowdfunding benefits for embattled workers...   \n",
       "4  The Art of Solitude: Franklin Boukaka and Manu...   \n",
       "\n",
       "                                                Body  Label  \\\n",
       "0  The population of West Bengal is three times t...    1.0   \n",
       "1  The Right to Food Campaign on Tuesday issued a...    1.0   \n",
       "2  Human rights organisation Amnesty Internationa...    1.0   \n",
       "3  For urban Indians, the Covid-19 lockdown has m...    1.0   \n",
       "4  Jazz has always brought me joy. This fortnight...    1.0   \n",
       "\n",
       "                                          Clean_Body  \n",
       "0  [The, population, of, West, Bengal, is, three,...  \n",
       "1  [The, Right, to, Food, Campaign, on, Tuesday, ...  \n",
       "2  [Human, rights, organisation, Amnesty, Interna...  \n",
       "3  [For, urban, Indians, the, Covid19, lockdown, ...  \n",
       "4  [Jazz, has, always, brought, me, joy, This, fo...  "
      ]
     },
     "execution_count": 76,
     "metadata": {},
     "output_type": "execute_result"
    }
   ],
   "source": [
    "import re\n",
    "def tokenize(text):\n",
    "    text=str(text)\n",
    "    tokens=re.split('\\W+',text)\n",
    "    return tokens\n",
    "\n",
    "df['Clean_Body']=df['Clean_Body'].apply(lambda x:tokenize(x))\n",
    "\n",
    "df.head()"
   ]
  },
  {
   "cell_type": "markdown",
   "metadata": {},
   "source": [
    "*Function to lemmatize the words. Uses the WordNetLemmatizer from nltk library*"
   ]
  },
  {
   "cell_type": "code",
   "execution_count": 77,
   "metadata": {
    "scrolled": true
   },
   "outputs": [
    {
     "data": {
      "text/html": [
       "<div>\n",
       "<style scoped>\n",
       "    .dataframe tbody tr th:only-of-type {\n",
       "        vertical-align: middle;\n",
       "    }\n",
       "\n",
       "    .dataframe tbody tr th {\n",
       "        vertical-align: top;\n",
       "    }\n",
       "\n",
       "    .dataframe thead th {\n",
       "        text-align: right;\n",
       "    }\n",
       "</style>\n",
       "<table border=\"1\" class=\"dataframe\">\n",
       "  <thead>\n",
       "    <tr style=\"text-align: right;\">\n",
       "      <th></th>\n",
       "      <th>Head</th>\n",
       "      <th>Body</th>\n",
       "      <th>Label</th>\n",
       "      <th>Clean_Body</th>\n",
       "    </tr>\n",
       "  </thead>\n",
       "  <tbody>\n",
       "    <tr>\n",
       "      <td>0</td>\n",
       "      <td>‘Sitting upon a volcano’: Doctors in Bengal ri...</td>\n",
       "      <td>The population of West Bengal is three times t...</td>\n",
       "      <td>1.0</td>\n",
       "      <td>[The, population, of, West, Bengal, is, three,...</td>\n",
       "    </tr>\n",
       "    <tr>\n",
       "      <td>1</td>\n",
       "      <td>Covid-19: As millions fear starvation, activis...</td>\n",
       "      <td>The Right to Food Campaign on Tuesday issued a...</td>\n",
       "      <td>1.0</td>\n",
       "      <td>[The, Right, to, Food, Campaign, on, Tuesday, ...</td>\n",
       "    </tr>\n",
       "    <tr>\n",
       "      <td>2</td>\n",
       "      <td>Delhi violence: UAPA against Jamia students an...</td>\n",
       "      <td>Human rights organisation Amnesty Internationa...</td>\n",
       "      <td>1.0</td>\n",
       "      <td>[Human, right, organisation, Amnesty, Internat...</td>\n",
       "    </tr>\n",
       "    <tr>\n",
       "      <td>3</td>\n",
       "      <td>By crowdfunding benefits for embattled workers...</td>\n",
       "      <td>For urban Indians, the Covid-19 lockdown has m...</td>\n",
       "      <td>1.0</td>\n",
       "      <td>[For, urban, Indians, the, Covid19, lockdown, ...</td>\n",
       "    </tr>\n",
       "    <tr>\n",
       "      <td>4</td>\n",
       "      <td>The Art of Solitude: Franklin Boukaka and Manu...</td>\n",
       "      <td>Jazz has always brought me joy. This fortnight...</td>\n",
       "      <td>1.0</td>\n",
       "      <td>[Jazz, ha, always, brought, me, joy, This, for...</td>\n",
       "    </tr>\n",
       "  </tbody>\n",
       "</table>\n",
       "</div>"
      ],
      "text/plain": [
       "                                                Head  \\\n",
       "0  ‘Sitting upon a volcano’: Doctors in Bengal ri...   \n",
       "1  Covid-19: As millions fear starvation, activis...   \n",
       "2  Delhi violence: UAPA against Jamia students an...   \n",
       "3  By crowdfunding benefits for embattled workers...   \n",
       "4  The Art of Solitude: Franklin Boukaka and Manu...   \n",
       "\n",
       "                                                Body  Label  \\\n",
       "0  The population of West Bengal is three times t...    1.0   \n",
       "1  The Right to Food Campaign on Tuesday issued a...    1.0   \n",
       "2  Human rights organisation Amnesty Internationa...    1.0   \n",
       "3  For urban Indians, the Covid-19 lockdown has m...    1.0   \n",
       "4  Jazz has always brought me joy. This fortnight...    1.0   \n",
       "\n",
       "                                          Clean_Body  \n",
       "0  [The, population, of, West, Bengal, is, three,...  \n",
       "1  [The, Right, to, Food, Campaign, on, Tuesday, ...  \n",
       "2  [Human, right, organisation, Amnesty, Internat...  \n",
       "3  [For, urban, Indians, the, Covid19, lockdown, ...  \n",
       "4  [Jazz, ha, always, brought, me, joy, This, for...  "
      ]
     },
     "execution_count": 77,
     "metadata": {},
     "output_type": "execute_result"
    }
   ],
   "source": [
    "import nltk\n",
    "\n",
    "wnl=nltk.WordNetLemmatizer()\n",
    "def lemmatize(words):\n",
    "    word=[wnl.lemmatize(word) for word in words]\n",
    "    return word\n",
    "\n",
    "\n",
    "df['Clean_Body']=df['Clean_Body'].apply(lambda x:lemmatize(x))\n",
    "df.head()\n"
   ]
  },
  {
   "cell_type": "code",
   "execution_count": 98,
   "metadata": {},
   "outputs": [
    {
     "data": {
      "text/plain": [
       "(1168, 4)"
      ]
     },
     "execution_count": 98,
     "metadata": {},
     "output_type": "execute_result"
    }
   ],
   "source": [
    "df.shape"
   ]
  },
  {
   "cell_type": "markdown",
   "metadata": {},
   "source": [
    "*Vectorization of the cleaned and tokenized text.*\n",
    "*I have used the TF-IDF vectorizer as it suits my needs.*\n",
    "*One can also go for CountVectorization or the N-gram vectorizer.*"
   ]
  },
  {
   "cell_type": "code",
   "execution_count": 96,
   "metadata": {
    "scrolled": true
   },
   "outputs": [
    {
     "data": {
      "text/html": [
       "<div>\n",
       "<style scoped>\n",
       "    .dataframe tbody tr th:only-of-type {\n",
       "        vertical-align: middle;\n",
       "    }\n",
       "\n",
       "    .dataframe tbody tr th {\n",
       "        vertical-align: top;\n",
       "    }\n",
       "\n",
       "    .dataframe thead th {\n",
       "        text-align: right;\n",
       "    }\n",
       "</style>\n",
       "<table border=\"1\" class=\"dataframe\">\n",
       "  <thead>\n",
       "    <tr style=\"text-align: right;\">\n",
       "      <th></th>\n",
       "      <th></th>\n",
       "      <th>0</th>\n",
       "      <th>00</th>\n",
       "      <th>006</th>\n",
       "      <th>007</th>\n",
       "      <th>008</th>\n",
       "      <th>01</th>\n",
       "      <th>019</th>\n",
       "      <th>02</th>\n",
       "      <th>022</th>\n",
       "      <th>...</th>\n",
       "      <th>zonesThis</th>\n",
       "      <th>zoo</th>\n",
       "      <th>zoom</th>\n",
       "      <th>zoombombing</th>\n",
       "      <th>zoomed</th>\n",
       "      <th>zooming</th>\n",
       "      <th>zygomatic</th>\n",
       "      <th>Éamon</th>\n",
       "      <th>出街一定要帶嘅嘢</th>\n",
       "      <th>同埋記住佢係易燃物品</th>\n",
       "    </tr>\n",
       "  </thead>\n",
       "  <tbody>\n",
       "    <tr>\n",
       "      <td>0</td>\n",
       "      <td>0.013901</td>\n",
       "      <td>0.0</td>\n",
       "      <td>0.0</td>\n",
       "      <td>0.0</td>\n",
       "      <td>0.0</td>\n",
       "      <td>0.0</td>\n",
       "      <td>0.0</td>\n",
       "      <td>0.0</td>\n",
       "      <td>0.0</td>\n",
       "      <td>0.0</td>\n",
       "      <td>...</td>\n",
       "      <td>0.0</td>\n",
       "      <td>0.0</td>\n",
       "      <td>0.0</td>\n",
       "      <td>0.0</td>\n",
       "      <td>0.0</td>\n",
       "      <td>0.0</td>\n",
       "      <td>0.0</td>\n",
       "      <td>0.0</td>\n",
       "      <td>0.0</td>\n",
       "      <td>0.0</td>\n",
       "    </tr>\n",
       "    <tr>\n",
       "      <td>1</td>\n",
       "      <td>0.000000</td>\n",
       "      <td>0.0</td>\n",
       "      <td>0.0</td>\n",
       "      <td>0.0</td>\n",
       "      <td>0.0</td>\n",
       "      <td>0.0</td>\n",
       "      <td>0.0</td>\n",
       "      <td>0.0</td>\n",
       "      <td>0.0</td>\n",
       "      <td>0.0</td>\n",
       "      <td>...</td>\n",
       "      <td>0.0</td>\n",
       "      <td>0.0</td>\n",
       "      <td>0.0</td>\n",
       "      <td>0.0</td>\n",
       "      <td>0.0</td>\n",
       "      <td>0.0</td>\n",
       "      <td>0.0</td>\n",
       "      <td>0.0</td>\n",
       "      <td>0.0</td>\n",
       "      <td>0.0</td>\n",
       "    </tr>\n",
       "    <tr>\n",
       "      <td>2</td>\n",
       "      <td>0.000000</td>\n",
       "      <td>0.0</td>\n",
       "      <td>0.0</td>\n",
       "      <td>0.0</td>\n",
       "      <td>0.0</td>\n",
       "      <td>0.0</td>\n",
       "      <td>0.0</td>\n",
       "      <td>0.0</td>\n",
       "      <td>0.0</td>\n",
       "      <td>0.0</td>\n",
       "      <td>...</td>\n",
       "      <td>0.0</td>\n",
       "      <td>0.0</td>\n",
       "      <td>0.0</td>\n",
       "      <td>0.0</td>\n",
       "      <td>0.0</td>\n",
       "      <td>0.0</td>\n",
       "      <td>0.0</td>\n",
       "      <td>0.0</td>\n",
       "      <td>0.0</td>\n",
       "      <td>0.0</td>\n",
       "    </tr>\n",
       "    <tr>\n",
       "      <td>3</td>\n",
       "      <td>0.009672</td>\n",
       "      <td>0.0</td>\n",
       "      <td>0.0</td>\n",
       "      <td>0.0</td>\n",
       "      <td>0.0</td>\n",
       "      <td>0.0</td>\n",
       "      <td>0.0</td>\n",
       "      <td>0.0</td>\n",
       "      <td>0.0</td>\n",
       "      <td>0.0</td>\n",
       "      <td>...</td>\n",
       "      <td>0.0</td>\n",
       "      <td>0.0</td>\n",
       "      <td>0.0</td>\n",
       "      <td>0.0</td>\n",
       "      <td>0.0</td>\n",
       "      <td>0.0</td>\n",
       "      <td>0.0</td>\n",
       "      <td>0.0</td>\n",
       "      <td>0.0</td>\n",
       "      <td>0.0</td>\n",
       "    </tr>\n",
       "    <tr>\n",
       "      <td>4</td>\n",
       "      <td>0.000000</td>\n",
       "      <td>0.0</td>\n",
       "      <td>0.0</td>\n",
       "      <td>0.0</td>\n",
       "      <td>0.0</td>\n",
       "      <td>0.0</td>\n",
       "      <td>0.0</td>\n",
       "      <td>0.0</td>\n",
       "      <td>0.0</td>\n",
       "      <td>0.0</td>\n",
       "      <td>...</td>\n",
       "      <td>0.0</td>\n",
       "      <td>0.0</td>\n",
       "      <td>0.0</td>\n",
       "      <td>0.0</td>\n",
       "      <td>0.0</td>\n",
       "      <td>0.0</td>\n",
       "      <td>0.0</td>\n",
       "      <td>0.0</td>\n",
       "      <td>0.0</td>\n",
       "      <td>0.0</td>\n",
       "    </tr>\n",
       "  </tbody>\n",
       "</table>\n",
       "<p>5 rows × 36937 columns</p>\n",
       "</div>"
      ],
      "text/plain": [
       "               0   00  006  007  008   01  019   02  022  ...  zonesThis  zoo  \\\n",
       "0  0.013901  0.0  0.0  0.0  0.0  0.0  0.0  0.0  0.0  0.0  ...        0.0  0.0   \n",
       "1  0.000000  0.0  0.0  0.0  0.0  0.0  0.0  0.0  0.0  0.0  ...        0.0  0.0   \n",
       "2  0.000000  0.0  0.0  0.0  0.0  0.0  0.0  0.0  0.0  0.0  ...        0.0  0.0   \n",
       "3  0.009672  0.0  0.0  0.0  0.0  0.0  0.0  0.0  0.0  0.0  ...        0.0  0.0   \n",
       "4  0.000000  0.0  0.0  0.0  0.0  0.0  0.0  0.0  0.0  0.0  ...        0.0  0.0   \n",
       "\n",
       "   zoom  zoombombing  zoomed  zooming  zygomatic  Éamon  出街一定要帶嘅嘢  同埋記住佢係易燃物品  \n",
       "0   0.0          0.0     0.0      0.0        0.0    0.0       0.0         0.0  \n",
       "1   0.0          0.0     0.0      0.0        0.0    0.0       0.0         0.0  \n",
       "2   0.0          0.0     0.0      0.0        0.0    0.0       0.0         0.0  \n",
       "3   0.0          0.0     0.0      0.0        0.0    0.0       0.0         0.0  \n",
       "4   0.0          0.0     0.0      0.0        0.0    0.0       0.0         0.0  \n",
       "\n",
       "[5 rows x 36937 columns]"
      ]
     },
     "execution_count": 96,
     "metadata": {},
     "output_type": "execute_result"
    }
   ],
   "source": [
    "from sklearn.feature_extraction.text import TfidfVectorizer\n",
    "tfidf_vect=TfidfVectorizer(analyzer=lemmatize)\n",
    "x=tfidf_vect.fit_transform(df['Clean_Body'])\n",
    "data=pd.DataFrame(x.toarray(),columns=tfidf_vect.get_feature_names())\n",
    "data.head()"
   ]
  },
  {
   "cell_type": "code",
   "execution_count": 99,
   "metadata": {},
   "outputs": [
    {
     "data": {
      "text/plain": [
       "(1168, 36937)"
      ]
     },
     "execution_count": 99,
     "metadata": {},
     "output_type": "execute_result"
    }
   ],
   "source": [
    "np.shape(x.toarray())"
   ]
  },
  {
   "cell_type": "markdown",
   "metadata": {},
   "source": [
    "**Optional. I was trying to be sure none of the values had blown out of size after vectorization**"
   ]
  },
  {
   "cell_type": "code",
   "execution_count": 79,
   "metadata": {},
   "outputs": [],
   "source": [
    "list=np.where(data.values >= np.finfo(np.float64).max)\n",
    "for i,j in data.iterrows():\n",
    "    for val in j.iteritems():\n",
    "        if val[1] >= np.finfo(np.float64).max:\n",
    "            print(\"postive\")\n"
   ]
  },
  {
   "cell_type": "markdown",
   "metadata": {},
   "source": [
    "### This were i tried to do some feature engineering ###"
   ]
  },
  {
   "cell_type": "markdown",
   "metadata": {},
   "source": [
    "*Creating a copy of the Dataframe for feautre engineering*"
   ]
  },
  {
   "cell_type": "code",
   "execution_count": 80,
   "metadata": {},
   "outputs": [
    {
     "data": {
      "text/html": [
       "<div>\n",
       "<style scoped>\n",
       "    .dataframe tbody tr th:only-of-type {\n",
       "        vertical-align: middle;\n",
       "    }\n",
       "\n",
       "    .dataframe tbody tr th {\n",
       "        vertical-align: top;\n",
       "    }\n",
       "\n",
       "    .dataframe thead th {\n",
       "        text-align: right;\n",
       "    }\n",
       "</style>\n",
       "<table border=\"1\" class=\"dataframe\">\n",
       "  <thead>\n",
       "    <tr style=\"text-align: right;\">\n",
       "      <th></th>\n",
       "      <th>Head</th>\n",
       "      <th>Body</th>\n",
       "      <th>Label</th>\n",
       "    </tr>\n",
       "  </thead>\n",
       "  <tbody>\n",
       "    <tr>\n",
       "      <td>0</td>\n",
       "      <td>‘Sitting upon a volcano’: Doctors in Bengal ri...</td>\n",
       "      <td>The population of West Bengal is three times t...</td>\n",
       "      <td>1.0</td>\n",
       "    </tr>\n",
       "    <tr>\n",
       "      <td>1</td>\n",
       "      <td>Covid-19: As millions fear starvation, activis...</td>\n",
       "      <td>The Right to Food Campaign on Tuesday issued a...</td>\n",
       "      <td>1.0</td>\n",
       "    </tr>\n",
       "    <tr>\n",
       "      <td>2</td>\n",
       "      <td>Delhi violence: UAPA against Jamia students an...</td>\n",
       "      <td>Human rights organisation Amnesty Internationa...</td>\n",
       "      <td>1.0</td>\n",
       "    </tr>\n",
       "    <tr>\n",
       "      <td>3</td>\n",
       "      <td>By crowdfunding benefits for embattled workers...</td>\n",
       "      <td>For urban Indians, the Covid-19 lockdown has m...</td>\n",
       "      <td>1.0</td>\n",
       "    </tr>\n",
       "    <tr>\n",
       "      <td>4</td>\n",
       "      <td>The Art of Solitude: Franklin Boukaka and Manu...</td>\n",
       "      <td>Jazz has always brought me joy. This fortnight...</td>\n",
       "      <td>1.0</td>\n",
       "    </tr>\n",
       "  </tbody>\n",
       "</table>\n",
       "</div>"
      ],
      "text/plain": [
       "                                                Head  \\\n",
       "0  ‘Sitting upon a volcano’: Doctors in Bengal ri...   \n",
       "1  Covid-19: As millions fear starvation, activis...   \n",
       "2  Delhi violence: UAPA against Jamia students an...   \n",
       "3  By crowdfunding benefits for embattled workers...   \n",
       "4  The Art of Solitude: Franklin Boukaka and Manu...   \n",
       "\n",
       "                                                Body  Label  \n",
       "0  The population of West Bengal is three times t...    1.0  \n",
       "1  The Right to Food Campaign on Tuesday issued a...    1.0  \n",
       "2  Human rights organisation Amnesty Internationa...    1.0  \n",
       "3  For urban Indians, the Covid-19 lockdown has m...    1.0  \n",
       "4  Jazz has always brought me joy. This fortnight...    1.0  "
      ]
     },
     "execution_count": 80,
     "metadata": {},
     "output_type": "execute_result"
    }
   ],
   "source": [
    "df_copy=pd.read_csv('train_data.csv')\n",
    "df_copy.drop(df_copy.iloc[:,3:],inplace=True,axis=1)\n",
    "df_copy.drop_duplicates(subset=\"Head\",inplace=True)\n",
    "df_copy.head()\n",
    "\n"
   ]
  },
  {
   "cell_type": "markdown",
   "metadata": {},
   "source": [
    "*I thought the punctuation count might be a good feature to distinguish between real and fake news. So here's a function i wrote to save the punctuation count in a separate column for each article*"
   ]
  },
  {
   "cell_type": "code",
   "execution_count": 81,
   "metadata": {},
   "outputs": [
    {
     "data": {
      "text/html": [
       "<div>\n",
       "<style scoped>\n",
       "    .dataframe tbody tr th:only-of-type {\n",
       "        vertical-align: middle;\n",
       "    }\n",
       "\n",
       "    .dataframe tbody tr th {\n",
       "        vertical-align: top;\n",
       "    }\n",
       "\n",
       "    .dataframe thead th {\n",
       "        text-align: right;\n",
       "    }\n",
       "</style>\n",
       "<table border=\"1\" class=\"dataframe\">\n",
       "  <thead>\n",
       "    <tr style=\"text-align: right;\">\n",
       "      <th></th>\n",
       "      <th>Head</th>\n",
       "      <th>Body</th>\n",
       "      <th>Label</th>\n",
       "      <th>punct_count</th>\n",
       "    </tr>\n",
       "  </thead>\n",
       "  <tbody>\n",
       "    <tr>\n",
       "      <td>0</td>\n",
       "      <td>‘Sitting upon a volcano’: Doctors in Bengal ri...</td>\n",
       "      <td>The population of West Bengal is three times t...</td>\n",
       "      <td>1.0</td>\n",
       "      <td>5793</td>\n",
       "    </tr>\n",
       "    <tr>\n",
       "      <td>1</td>\n",
       "      <td>Covid-19: As millions fear starvation, activis...</td>\n",
       "      <td>The Right to Food Campaign on Tuesday issued a...</td>\n",
       "      <td>1.0</td>\n",
       "      <td>5115</td>\n",
       "    </tr>\n",
       "    <tr>\n",
       "      <td>2</td>\n",
       "      <td>Delhi violence: UAPA against Jamia students an...</td>\n",
       "      <td>Human rights organisation Amnesty Internationa...</td>\n",
       "      <td>1.0</td>\n",
       "      <td>3265</td>\n",
       "    </tr>\n",
       "    <tr>\n",
       "      <td>3</td>\n",
       "      <td>By crowdfunding benefits for embattled workers...</td>\n",
       "      <td>For urban Indians, the Covid-19 lockdown has m...</td>\n",
       "      <td>1.0</td>\n",
       "      <td>8730</td>\n",
       "    </tr>\n",
       "    <tr>\n",
       "      <td>4</td>\n",
       "      <td>The Art of Solitude: Franklin Boukaka and Manu...</td>\n",
       "      <td>Jazz has always brought me joy. This fortnight...</td>\n",
       "      <td>1.0</td>\n",
       "      <td>1862</td>\n",
       "    </tr>\n",
       "  </tbody>\n",
       "</table>\n",
       "</div>"
      ],
      "text/plain": [
       "                                                Head  \\\n",
       "0  ‘Sitting upon a volcano’: Doctors in Bengal ri...   \n",
       "1  Covid-19: As millions fear starvation, activis...   \n",
       "2  Delhi violence: UAPA against Jamia students an...   \n",
       "3  By crowdfunding benefits for embattled workers...   \n",
       "4  The Art of Solitude: Franklin Boukaka and Manu...   \n",
       "\n",
       "                                                Body  Label  punct_count  \n",
       "0  The population of West Bengal is three times t...    1.0         5793  \n",
       "1  The Right to Food Campaign on Tuesday issued a...    1.0         5115  \n",
       "2  Human rights organisation Amnesty Internationa...    1.0         3265  \n",
       "3  For urban Indians, the Covid-19 lockdown has m...    1.0         8730  \n",
       "4  Jazz has always brought me joy. This fortnight...    1.0         1862  "
      ]
     },
     "execution_count": 81,
     "metadata": {},
     "output_type": "execute_result"
    }
   ],
   "source": [
    "def punct_count(text):\n",
    "    text=str(text)\n",
    "    count=0\n",
    "    for c in text:\n",
    "        if(c not in string.punctuation):\n",
    "            count=count+1\n",
    "    return count\n",
    "\n",
    "df_copy['punct_count']=df_copy['Body'].apply(lambda x:punct_count(x))\n",
    "df_copy.head()\n",
    "            \n",
    "    "
   ]
  },
  {
   "cell_type": "markdown",
   "metadata": {},
   "source": [
    "*Heres a plot of the punctuation count for the two categories using matplotlib.*\n",
    "*Turns out its not a good feature to distinguish after all !* "
   ]
  },
  {
   "cell_type": "code",
   "execution_count": 82,
   "metadata": {},
   "outputs": [
    {
     "data": {
      "image/png": "[encoded data removed]",
      "text/plain": [
       "<Figure size 432x288 with 1 Axes>"
      ]
     },
     "metadata": {
      "needs_background": "light"
     },
     "output_type": "display_data"
    }
   ],
   "source": [
    "import matplotlib.pyplot as plt\n",
    "%matplotlib inline\n",
    "import numpy as np\n",
    "bins=np.linspace(df_copy['punct_count'].min(),df_copy['punct_count'].max())\n",
    "plt.hist(df_copy[df_copy['Label']==0]['punct_count'],bins,label='real',density=True)\n",
    "plt.hist(df_copy[df_copy['Label']==1]['punct_count'],bins,label='fake',density=True)\n",
    "plt.legend(loc='upper right')\n",
    "plt.show()\n"
   ]
  },
  {
   "cell_type": "markdown",
   "metadata": {},
   "source": [
    "*Similarly I thought that No.of Stopwords might also be a good feature to distinguish between real and fake news. So here's a function i wrote to save the stopword count in a separate column for each article.*"
   ]
  },
  {
   "cell_type": "code",
   "execution_count": 83,
   "metadata": {},
   "outputs": [
    {
     "data": {
      "text/html": [
       "<div>\n",
       "<style scoped>\n",
       "    .dataframe tbody tr th:only-of-type {\n",
       "        vertical-align: middle;\n",
       "    }\n",
       "\n",
       "    .dataframe tbody tr th {\n",
       "        vertical-align: top;\n",
       "    }\n",
       "\n",
       "    .dataframe thead th {\n",
       "        text-align: right;\n",
       "    }\n",
       "</style>\n",
       "<table border=\"1\" class=\"dataframe\">\n",
       "  <thead>\n",
       "    <tr style=\"text-align: right;\">\n",
       "      <th></th>\n",
       "      <th>Head</th>\n",
       "      <th>Body</th>\n",
       "      <th>Label</th>\n",
       "      <th>punct_count</th>\n",
       "      <th>stop_count</th>\n",
       "    </tr>\n",
       "  </thead>\n",
       "  <tbody>\n",
       "    <tr>\n",
       "      <td>0</td>\n",
       "      <td>‘Sitting upon a volcano’: Doctors in Bengal ri...</td>\n",
       "      <td>The population of West Bengal is three times t...</td>\n",
       "      <td>1.0</td>\n",
       "      <td>5793</td>\n",
       "      <td>2253</td>\n",
       "    </tr>\n",
       "    <tr>\n",
       "      <td>1</td>\n",
       "      <td>Covid-19: As millions fear starvation, activis...</td>\n",
       "      <td>The Right to Food Campaign on Tuesday issued a...</td>\n",
       "      <td>1.0</td>\n",
       "      <td>5115</td>\n",
       "      <td>2035</td>\n",
       "    </tr>\n",
       "    <tr>\n",
       "      <td>2</td>\n",
       "      <td>Delhi violence: UAPA against Jamia students an...</td>\n",
       "      <td>Human rights organisation Amnesty Internationa...</td>\n",
       "      <td>1.0</td>\n",
       "      <td>3265</td>\n",
       "      <td>1269</td>\n",
       "    </tr>\n",
       "    <tr>\n",
       "      <td>3</td>\n",
       "      <td>By crowdfunding benefits for embattled workers...</td>\n",
       "      <td>For urban Indians, the Covid-19 lockdown has m...</td>\n",
       "      <td>1.0</td>\n",
       "      <td>8730</td>\n",
       "      <td>3258</td>\n",
       "    </tr>\n",
       "    <tr>\n",
       "      <td>4</td>\n",
       "      <td>The Art of Solitude: Franklin Boukaka and Manu...</td>\n",
       "      <td>Jazz has always brought me joy. This fortnight...</td>\n",
       "      <td>1.0</td>\n",
       "      <td>1862</td>\n",
       "      <td>685</td>\n",
       "    </tr>\n",
       "  </tbody>\n",
       "</table>\n",
       "</div>"
      ],
      "text/plain": [
       "                                                Head  \\\n",
       "0  ‘Sitting upon a volcano’: Doctors in Bengal ri...   \n",
       "1  Covid-19: As millions fear starvation, activis...   \n",
       "2  Delhi violence: UAPA against Jamia students an...   \n",
       "3  By crowdfunding benefits for embattled workers...   \n",
       "4  The Art of Solitude: Franklin Boukaka and Manu...   \n",
       "\n",
       "                                                Body  Label  punct_count  \\\n",
       "0  The population of West Bengal is three times t...    1.0         5793   \n",
       "1  The Right to Food Campaign on Tuesday issued a...    1.0         5115   \n",
       "2  Human rights organisation Amnesty Internationa...    1.0         3265   \n",
       "3  For urban Indians, the Covid-19 lockdown has m...    1.0         8730   \n",
       "4  Jazz has always brought me joy. This fortnight...    1.0         1862   \n",
       "\n",
       "   stop_count  \n",
       "0        2253  \n",
       "1        2035  \n",
       "2        1269  \n",
       "3        3258  \n",
       "4         685  "
      ]
     },
     "execution_count": 83,
     "metadata": {},
     "output_type": "execute_result"
    }
   ],
   "source": [
    "\n",
    "stopwords=nltk.corpus.stopwords.words('english')\n",
    "def stop_count(text):\n",
    "    count=0\n",
    "    text=str(text)\n",
    "    for c in text:\n",
    "        if(c in stopwords):\n",
    "            count=count+1\n",
    "    return count\n",
    "df_copy['stop_count']=df_copy['Body'].apply(lambda x:remove_punct(x))\n",
    "df_copy['stop_count']=df_copy['stop_count'].apply(lambda x:tokenize(x))\n",
    "df_copy['stop_count']=df_copy['stop_count'].apply(lambda x:stop_count(x))\n",
    "df_copy.head()\n",
    "\n",
    "    "
   ]
  },
  {
   "cell_type": "markdown",
   "metadata": {},
   "source": [
    "*Heres a plot of the stopword count for the two categories using matplotlib. Turns out its not a good feature to distinguish either !*"
   ]
  },
  {
   "cell_type": "code",
   "execution_count": 84,
   "metadata": {},
   "outputs": [
    {
     "data": {
      "image/png": "[encoded data removed]",
      "text/plain": [
       "<Figure size 432x288 with 1 Axes>"
      ]
     },
     "metadata": {
      "needs_background": "light"
     },
     "output_type": "display_data"
    }
   ],
   "source": [
    "import matplotlib.pyplot as plt1\n",
    "%matplotlib inline\n",
    "import numpy as np1\n",
    "bins=np1.linspace(df_copy['stop_count'].min(),df_copy['stop_count'].max())\n",
    "plt1.hist(df_copy[df_copy['Label']==0]['stop_count'],bins,label='real',density=True)\n",
    "plt1.hist(df_copy[df_copy['Label']==1]['stop_count'],bins,label='fake',density=True)\n",
    "plt1.legend(loc='upper right')\n",
    "plt1.show()"
   ]
  },
  {
   "cell_type": "markdown",
   "metadata": {},
   "source": [
    "*Same thing happened when I wrote a function to use document length as a feature and plotted the result but to no use !*"
   ]
  },
  {
   "cell_type": "code",
   "execution_count": 85,
   "metadata": {},
   "outputs": [
    {
     "data": {
      "text/html": [
       "<div>\n",
       "<style scoped>\n",
       "    .dataframe tbody tr th:only-of-type {\n",
       "        vertical-align: middle;\n",
       "    }\n",
       "\n",
       "    .dataframe tbody tr th {\n",
       "        vertical-align: top;\n",
       "    }\n",
       "\n",
       "    .dataframe thead th {\n",
       "        text-align: right;\n",
       "    }\n",
       "</style>\n",
       "<table border=\"1\" class=\"dataframe\">\n",
       "  <thead>\n",
       "    <tr style=\"text-align: right;\">\n",
       "      <th></th>\n",
       "      <th>Head</th>\n",
       "      <th>Body</th>\n",
       "      <th>Label</th>\n",
       "      <th>punct_count</th>\n",
       "      <th>stop_count</th>\n",
       "      <th>doc_len</th>\n",
       "    </tr>\n",
       "  </thead>\n",
       "  <tbody>\n",
       "    <tr>\n",
       "      <td>0</td>\n",
       "      <td>‘Sitting upon a volcano’: Doctors in Bengal ri...</td>\n",
       "      <td>The population of West Bengal is three times t...</td>\n",
       "      <td>1.0</td>\n",
       "      <td>5793</td>\n",
       "      <td>2253</td>\n",
       "      <td>5793</td>\n",
       "    </tr>\n",
       "    <tr>\n",
       "      <td>1</td>\n",
       "      <td>Covid-19: As millions fear starvation, activis...</td>\n",
       "      <td>The Right to Food Campaign on Tuesday issued a...</td>\n",
       "      <td>1.0</td>\n",
       "      <td>5115</td>\n",
       "      <td>2035</td>\n",
       "      <td>5115</td>\n",
       "    </tr>\n",
       "    <tr>\n",
       "      <td>2</td>\n",
       "      <td>Delhi violence: UAPA against Jamia students an...</td>\n",
       "      <td>Human rights organisation Amnesty Internationa...</td>\n",
       "      <td>1.0</td>\n",
       "      <td>3265</td>\n",
       "      <td>1269</td>\n",
       "      <td>3265</td>\n",
       "    </tr>\n",
       "    <tr>\n",
       "      <td>3</td>\n",
       "      <td>By crowdfunding benefits for embattled workers...</td>\n",
       "      <td>For urban Indians the Covid19 lockdown has mad...</td>\n",
       "      <td>1.0</td>\n",
       "      <td>8730</td>\n",
       "      <td>3258</td>\n",
       "      <td>8730</td>\n",
       "    </tr>\n",
       "    <tr>\n",
       "      <td>4</td>\n",
       "      <td>The Art of Solitude: Franklin Boukaka and Manu...</td>\n",
       "      <td>Jazz has always brought me joy This fortnight ...</td>\n",
       "      <td>1.0</td>\n",
       "      <td>1862</td>\n",
       "      <td>685</td>\n",
       "      <td>1862</td>\n",
       "    </tr>\n",
       "  </tbody>\n",
       "</table>\n",
       "</div>"
      ],
      "text/plain": [
       "                                                Head  \\\n",
       "0  ‘Sitting upon a volcano’: Doctors in Bengal ri...   \n",
       "1  Covid-19: As millions fear starvation, activis...   \n",
       "2  Delhi violence: UAPA against Jamia students an...   \n",
       "3  By crowdfunding benefits for embattled workers...   \n",
       "4  The Art of Solitude: Franklin Boukaka and Manu...   \n",
       "\n",
       "                                                Body  Label  punct_count  \\\n",
       "0  The population of West Bengal is three times t...    1.0         5793   \n",
       "1  The Right to Food Campaign on Tuesday issued a...    1.0         5115   \n",
       "2  Human rights organisation Amnesty Internationa...    1.0         3265   \n",
       "3  For urban Indians the Covid19 lockdown has mad...    1.0         8730   \n",
       "4  Jazz has always brought me joy This fortnight ...    1.0         1862   \n",
       "\n",
       "   stop_count  doc_len  \n",
       "0        2253     5793  \n",
       "1        2035     5115  \n",
       "2        1269     3265  \n",
       "3        3258     8730  \n",
       "4         685     1862  "
      ]
     },
     "execution_count": 85,
     "metadata": {},
     "output_type": "execute_result"
    }
   ],
   "source": [
    "def get_doc_length(text):\n",
    "    text=str(text)\n",
    "    return len(text)\n",
    "\n",
    "df_copy['Body']=df_copy['Body'].apply(lambda x:remove_punct(x))\n",
    "df_copy['doc_len']=df_copy['Body'].apply(lambda x:get_doc_length(x))\n",
    "df_copy.head()"
   ]
  },
  {
   "cell_type": "code",
   "execution_count": 86,
   "metadata": {},
   "outputs": [
    {
     "data": {
      "image/png": "[encoded data removed]",
      "text/plain": [
       "<Figure size 432x288 with 1 Axes>"
      ]
     },
     "metadata": {
      "needs_background": "light"
     },
     "output_type": "display_data"
    }
   ],
   "source": [
    "import matplotlib.pyplot as plt2\n",
    "%matplotlib inline\n",
    "import numpy as np2\n",
    "bins=np2.linspace(df_copy['doc_len'].min(),df_copy['doc_len'].max())\n",
    "plt2.hist(df_copy[df_copy['Label']==0]['doc_len'],bins,label='real',density=True)\n",
    "plt2.hist(df_copy[df_copy['Label']==1]['doc_len'],bins,label='fake',density=True)\n",
    "plt2.legend(loc='upper right')\n",
    "plt2.show()"
   ]
  },
  {
   "cell_type": "markdown",
   "metadata": {},
   "source": [
    "*Splitting the data into training and test sets as usual*"
   ]
  },
  {
   "cell_type": "code",
   "execution_count": 89,
   "metadata": {},
   "outputs": [
    {
     "name": "stdout",
     "output_type": "stream",
     "text": [
      "                  0   00  006  007  008   01  019   02  022  ...  zonesThis  \\\n",
      "905   0.000000  0.0  0.0  0.0  0.0  0.0  0.0  0.0  0.0  0.0  ...        0.0   \n",
      "35    0.000000  0.0  0.0  0.0  0.0  0.0  0.0  0.0  0.0  0.0  ...        0.0   \n",
      "98    0.000000  0.0  0.0  0.0  0.0  0.0  0.0  0.0  0.0  0.0  ...        0.0   \n",
      "537   0.000000  0.0  0.0  0.0  0.0  0.0  0.0  0.0  0.0  0.0  ...        0.0   \n",
      "820   0.000000  0.0  0.0  0.0  0.0  0.0  0.0  0.0  0.0  0.0  ...        0.0   \n",
      "...        ...  ...  ...  ...  ...  ...  ...  ...  ...  ...  ...        ...   \n",
      "1025  0.000000  0.0  0.0  0.0  0.0  0.0  0.0  0.0  0.0  0.0  ...        0.0   \n",
      "539   0.000000  0.0  0.0  0.0  0.0  0.0  0.0  0.0  0.0  0.0  ...        0.0   \n",
      "750   0.021243  0.0  0.0  0.0  0.0  0.0  0.0  0.0  0.0  0.0  ...        0.0   \n",
      "816   0.000000  0.0  0.0  0.0  0.0  0.0  0.0  0.0  0.0  0.0  ...        0.0   \n",
      "736   0.000000  0.0  0.0  0.0  0.0  0.0  0.0  0.0  0.0  0.0  ...        0.0   \n",
      "\n",
      "      zoo  zoom  zoombombing  zoomed  zooming  zygomatic  Éamon  出街一定要帶嘅嘢  \\\n",
      "905   0.0   0.0          0.0     0.0      0.0        0.0    0.0       0.0   \n",
      "35    0.0   0.0          0.0     0.0      0.0        0.0    0.0       0.0   \n",
      "98    0.0   0.0          0.0     0.0      0.0        0.0    0.0       0.0   \n",
      "537   0.0   0.0          0.0     0.0      0.0        0.0    0.0       0.0   \n",
      "820   0.0   0.0          0.0     0.0      0.0        0.0    0.0       0.0   \n",
      "...   ...   ...          ...     ...      ...        ...    ...       ...   \n",
      "1025  0.0   0.0          0.0     0.0      0.0        0.0    0.0       0.0   \n",
      "539   0.0   0.0          0.0     0.0      0.0        0.0    0.0       0.0   \n",
      "750   0.0   0.0          0.0     0.0      0.0        0.0    0.0       0.0   \n",
      "816   0.0   0.0          0.0     0.0      0.0        0.0    0.0       0.0   \n",
      "736   0.0   0.0          0.0     0.0      0.0        0.0    0.0       0.0   \n",
      "\n",
      "      同埋記住佢係易燃物品  \n",
      "905          0.0  \n",
      "35           0.0  \n",
      "98           0.0  \n",
      "537          0.0  \n",
      "820          0.0  \n",
      "...          ...  \n",
      "1025         0.0  \n",
      "539          0.0  \n",
      "750          0.0  \n",
      "816          0.0  \n",
      "736          0.0  \n",
      "\n",
      "[876 rows x 36937 columns]\n"
     ]
    }
   ],
   "source": [
    "from sklearn.model_selection import train_test_split\n",
    "\n",
    "x_train,x_test,y_train,y_test=train_test_split(data,df['Label'],shuffle=True)\n",
    "print(x_train)"
   ]
  },
  {
   "cell_type": "markdown",
   "metadata": {},
   "source": [
    "*Training a SVM from sklearn on x_train and y_train*"
   ]
  },
  {
   "cell_type": "code",
   "execution_count": 90,
   "metadata": {},
   "outputs": [],
   "source": [
    "from sklearn import svm\n",
    "classifier=svm.SVC()\n",
    "classifier.fit(x_train,y_train)\n",
    "pred=classifier.predict(x_test)"
   ]
  },
  {
   "cell_type": "markdown",
   "metadata": {},
   "source": [
    "*I printed the accuracy score for my model but it was only 93 %*"
   ]
  },
  {
   "cell_type": "code",
   "execution_count": 91,
   "metadata": {},
   "outputs": [
    {
     "name": "stdout",
     "output_type": "stream",
     "text": [
      "0.934931506849315\n"
     ]
    }
   ],
   "source": [
    "from sklearn.metrics import classification_report,confusion_matrix,accuracy_score\n",
    "print(accuracy_score(y_test,pred))"
   ]
  },
  {
   "cell_type": "markdown",
   "metadata": {},
   "source": [
    "*So I decided to do a GridSearch inorder to find the best set of parameters and kernel for my model. This time the result was comparitively better at 95%*"
   ]
  },
  {
   "cell_type": "code",
   "execution_count": 92,
   "metadata": {},
   "outputs": [
    {
     "name": "stdout",
     "output_type": "stream",
     "text": [
      "0.9554794520547946\n"
     ]
    }
   ],
   "source": [
    "from sklearn import svm\n",
    "from sklearn.model_selection import GridSearchCV\n",
    "param_grid = [\n",
    "    {'C': [1, 10, 100, 1000], 'gamma': [0.001, 0.0001], 'kernel': ['linear','rbf','sigmoid']}\n",
    " ]\n",
    "model=GridSearchCV(svm.SVC(),param_grid)\n",
    "model.fit(x_train,y_train)\n",
    "pred_new = model.predict(x_test)\n",
    "print(accuracy_score(y_test,pred_new))"
   ]
  },
  {
   "cell_type": "markdown",
   "metadata": {},
   "source": [
    "*Here are the parameters of the final model*"
   ]
  },
  {
   "cell_type": "code",
   "execution_count": 6,
   "metadata": {
    "collapsed": true
   },
   "outputs": [
    {
     "ename": "NameError",
     "evalue": "name 'model' is not defined",
     "output_type": "error",
     "traceback": [
      "\u001b[1;31m---------------------------------------------------------------------------\u001b[0m",
      "\u001b[1;31mNameError\u001b[0m                                 Traceback (most recent call last)",
      "\u001b[1;32m<ipython-input-6-3bbe0a53dec3>\u001b[0m in \u001b[0;36m<module>\u001b[1;34m\u001b[0m\n\u001b[1;32m----> 1\u001b[1;33m \u001b[0mprint\u001b[0m\u001b[1;33m(\u001b[0m\u001b[0mmodel\u001b[0m\u001b[1;33m.\u001b[0m\u001b[0mget_params\u001b[0m\u001b[1;33m(\u001b[0m\u001b[1;33m)\u001b[0m\u001b[1;33m)\u001b[0m\u001b[1;33m\u001b[0m\u001b[1;33m\u001b[0m\u001b[0m\n\u001b[0m",
      "\u001b[1;31mNameError\u001b[0m: name 'model' is not defined"
     ]
    }
   ],
   "source": [
    "print(model.get_params())"
   ]
  },
  {
   "cell_type": "markdown",
   "metadata": {},
   "source": [
    "*Finally I used pickle to save my model for future use in apps*"
   ]
  },
  {
   "cell_type": "code",
   "execution_count": 95,
   "metadata": {},
   "outputs": [],
   "source": [
    "import pickle\n",
    "pickle.dump(model,open('fake_svm.pkl','wb'))"
   ]
  }
 ],
 "metadata": {
  "kernelspec": {
   "display_name": "Python 3",
   "language": "python",
   "name": "python3"
  },
  "language_info": {
   "codemirror_mode": {
    "name": "ipython",
    "version": 3
   },
   "file_extension": ".py",
   "mimetype": "text/x-python",
   "name": "python",
   "nbconvert_exporter": "python",
   "pygments_lexer": "ipython3",
   "version": "3.7.3"
  }
 },
 "nbformat": 4,
 "nbformat_minor": 2
}
